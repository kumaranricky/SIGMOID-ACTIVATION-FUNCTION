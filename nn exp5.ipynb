{
 "cells": [
  {
   "cell_type": "code",
   "execution_count": 5,
   "id": "4490b04a",
   "metadata": {},
   "outputs": [
    {
     "name": "stdout",
     "output_type": "stream",
     "text": [
      "Beginning Randomly Generated weights: \n",
      "[[-0.16595599]\n",
      " [ 0.44064899]\n",
      " [-0.99977125]]\n",
      "Ending Weights After Training\n",
      "[[10.08740896]\n",
      " [-0.20695366]\n",
      " [-4.83757835]]\n",
      "User Input One : 1\n",
      "User Input Two : 0\n",
      "User Input Three : 1\n",
      "Considering New Situation:  1 0 1\n",
      "New Output data: \n",
      "[0.99477899]\n",
      "Wow, we did it!\n"
     ]
    }
   ],
   "source": [
    "import numpy as np\n",
    "class NeuralNetwork():\n",
    "    def __init__(self):\n",
    "        np.random.seed(1)\n",
    "        self.synaptic_weights=2*np.random.random((3,1)) -1\n",
    "        \n",
    "    def sigmoid(self,x):\n",
    "        return 1/(1+np.exp(-x))\n",
    "    \n",
    "    def sigmoid_derivative(self,x):\n",
    "        return x*(1-x)\n",
    "    \n",
    "    def train(self,training_inputs,training_outputs,training_iterations):\n",
    "        \n",
    "        for iteration in range(training_iterations):\n",
    "            output=self.think(training_inputs)\n",
    "            error=training_outputs-output\n",
    "            adjustments=np.dot(training_inputs.T,error*self.sigmoid_derivative(output))\n",
    "            self.synaptic_weights += adjustments\n",
    "    def  think(self,inputs):\n",
    "        inputs=inputs.astype(float)\n",
    "        output=self.sigmoid(np.dot(inputs,self.synaptic_weights))\n",
    "        return output\n",
    "\n",
    "if __name__==\"__main__\":\n",
    "    neuron=NeuralNetwork()\n",
    "    \n",
    "    print(\"Beginning Randomly Generated weights: \")\n",
    "    print(neuron.synaptic_weights)\n",
    "    \n",
    "    training_inputs=np.array([[0,0,1],[1,1,1],[1,0,1],[0,1,1]])\n",
    "    \n",
    "    training_outputs=np.array([[0,1,1,0]]).T\n",
    "    \n",
    "    neuron.train(training_inputs,training_outputs, 15000)\n",
    "    \n",
    "    print(\"Ending Weights After Training\")\n",
    "    print(neuron.synaptic_weights)\n",
    "    \n",
    "    user_input_one=str(input(\"User Input One : \"))\n",
    "    user_input_two=str(input(\"User Input Two : \"))\n",
    "    user_input_three=str(input(\"User Input Three : \"))\n",
    "    \n",
    "    print(\"Considering New Situation: \",user_input_one, user_input_two, user_input_three)\n",
    "    print(\"New Output data: \")\n",
    "    print(neuron.think(np.array([user_input_one, user_input_two, user_input_three])))\n",
    "    print(\"Wow, we did it!\")"
   ]
  },
  {
   "cell_type": "code",
   "execution_count": null,
   "id": "562a8446",
   "metadata": {},
   "outputs": [],
   "source": []
  },
  {
   "cell_type": "code",
   "execution_count": null,
   "id": "6f4f4f63",
   "metadata": {},
   "outputs": [],
   "source": []
  }
 ],
 "metadata": {
  "kernelspec": {
   "display_name": "Python 3",
   "language": "python",
   "name": "python3"
  },
  "language_info": {
   "codemirror_mode": {
    "name": "ipython",
    "version": 3
   },
   "file_extension": ".py",
   "mimetype": "text/x-python",
   "name": "python",
   "nbconvert_exporter": "python",
   "pygments_lexer": "ipython3",
   "version": "3.8.8"
  }
 },
 "nbformat": 4,
 "nbformat_minor": 5
}
